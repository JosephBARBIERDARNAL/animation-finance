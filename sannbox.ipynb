{
 "cells": [
  {
   "cell_type": "code",
   "execution_count": 1,
   "metadata": {},
   "outputs": [],
   "source": [
    "import yfinance as yf\n",
    "import polars as pl\n",
    "from typing import Union, List\n",
    "\n",
    "def load_yahoo_data(tickers: Union[str, List[str]]) -> pl.DataFrame:\n",
    "    \"\"\"\n",
    "    Load closing price data for one or multiple tickers from Yahoo Finance.\n",
    "    Returns the maximum available data for all tickers.\n",
    "    \n",
    "    Args:\n",
    "    tickers (str or list of str): Single ticker or list of tickers to fetch data for.\n",
    "    \n",
    "    Returns:\n",
    "    polars.DataFrame: DataFrame containing the closing prices for all tickers.\n",
    "    \"\"\"\n",
    "    if isinstance(tickers, str):\n",
    "        tickers = [tickers]\n",
    "    \n",
    "    data_frames = []\n",
    "    for ticker in tickers:\n",
    "        df = yf.Ticker(ticker).history(period=\"max\")\n",
    "        df = pl.from_pandas(df.reset_index())\n",
    "        df = df.select([pl.col(\"Date\"), pl.col(\"Close\").alias(ticker)])\n",
    "        data_frames.append(df)\n",
    "    \n",
    "    merged_df = data_frames[0]\n",
    "    for df in data_frames[1:]:\n",
    "        merged_df = merged_df.join(df, on=\"Date\", how=\"inner\")\n",
    "    \n",
    "    return merged_df.sort(\"Date\")\n",
    "\n",
    "# For a single ticker\n",
    "df_single = load_yahoo_data(\"AAPL\")\n",
    "\n",
    "# For multiple tickers\n",
    "df_multiple = load_yahoo_data([\"AAPL\", \"GOOGL\", \"MSFT\"])"
   ]
  },
  {
   "cell_type": "code",
   "execution_count": 3,
   "metadata": {},
   "outputs": [
    {
     "data": {
      "text/html": [
       "<div><style>\n",
       ".dataframe > thead > tr,\n",
       ".dataframe > tbody > tr {\n",
       "  text-align: right;\n",
       "  white-space: pre-wrap;\n",
       "}\n",
       "</style>\n",
       "<small>shape: (10_981, 2)</small><table border=\"1\" class=\"dataframe\"><thead><tr><th>Date</th><th>AAPL</th></tr><tr><td>datetime[ns, America/New_York]</td><td>f64</td></tr></thead><tbody><tr><td>1980-12-12 00:00:00 EST</td><td>0.099058</td></tr><tr><td>1980-12-15 00:00:00 EST</td><td>0.09389</td></tr><tr><td>1980-12-16 00:00:00 EST</td><td>0.086999</td></tr><tr><td>1980-12-17 00:00:00 EST</td><td>0.089152</td></tr><tr><td>1980-12-18 00:00:00 EST</td><td>0.091737</td></tr><tr><td>&hellip;</td><td>&hellip;</td></tr><tr><td>2024-06-28 00:00:00 EDT</td><td>210.619995</td></tr><tr><td>2024-07-01 00:00:00 EDT</td><td>216.75</td></tr><tr><td>2024-07-02 00:00:00 EDT</td><td>220.270004</td></tr><tr><td>2024-07-03 00:00:00 EDT</td><td>221.550003</td></tr><tr><td>2024-07-05 00:00:00 EDT</td><td>226.339996</td></tr></tbody></table></div>"
      ],
      "text/plain": [
       "shape: (10_981, 2)\n",
       "┌────────────────────────────────┬────────────┐\n",
       "│ Date                           ┆ AAPL       │\n",
       "│ ---                            ┆ ---        │\n",
       "│ datetime[ns, America/New_York] ┆ f64        │\n",
       "╞════════════════════════════════╪════════════╡\n",
       "│ 1980-12-12 00:00:00 EST        ┆ 0.099058   │\n",
       "│ 1980-12-15 00:00:00 EST        ┆ 0.09389    │\n",
       "│ 1980-12-16 00:00:00 EST        ┆ 0.086999   │\n",
       "│ 1980-12-17 00:00:00 EST        ┆ 0.089152   │\n",
       "│ 1980-12-18 00:00:00 EST        ┆ 0.091737   │\n",
       "│ …                              ┆ …          │\n",
       "│ 2024-06-28 00:00:00 EDT        ┆ 210.619995 │\n",
       "│ 2024-07-01 00:00:00 EDT        ┆ 216.75     │\n",
       "│ 2024-07-02 00:00:00 EDT        ┆ 220.270004 │\n",
       "│ 2024-07-03 00:00:00 EDT        ┆ 221.550003 │\n",
       "│ 2024-07-05 00:00:00 EDT        ┆ 226.339996 │\n",
       "└────────────────────────────────┴────────────┘"
      ]
     },
     "execution_count": 3,
     "metadata": {},
     "output_type": "execute_result"
    }
   ],
   "source": [
    "df_single"
   ]
  }
 ],
 "metadata": {
  "kernelspec": {
   "display_name": "venv",
   "language": "python",
   "name": "python3"
  },
  "language_info": {
   "codemirror_mode": {
    "name": "ipython",
    "version": 3
   },
   "file_extension": ".py",
   "mimetype": "text/x-python",
   "name": "python",
   "nbconvert_exporter": "python",
   "pygments_lexer": "ipython3",
   "version": "3.10.13"
  }
 },
 "nbformat": 4,
 "nbformat_minor": 2
}

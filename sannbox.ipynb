{
 "cells": [
  {
   "cell_type": "code",
   "execution_count": 3,
   "metadata": {},
   "outputs": [],
   "source": [
    "import yfinance as yf\n",
    "import polars as pl\n",
    "from typing import Union, List\n",
    "\n",
    "def load_yahoo_data(tickers: Union[str, List[str]]) -> pl.DataFrame:\n",
    "    \"\"\"\n",
    "    Load closing price data for one or multiple tickers from Yahoo Finance.\n",
    "    Returns the maximum available data for all tickers.\n",
    "    \n",
    "    Args:\n",
    "    tickers (str or list of str): Single ticker or list of tickers to fetch data for.\n",
    "    \n",
    "    Returns:\n",
    "    polars.DataFrame: DataFrame containing the closing prices for all tickers.\n",
    "    \"\"\"\n",
    "    if isinstance(tickers, str):\n",
    "        tickers = [tickers]\n",
    "    \n",
    "    data_frames = []\n",
    "    for ticker in tickers:\n",
    "        df = yf.Ticker(ticker).history(period=\"max\")\n",
    "        df = pl.from_pandas(df.reset_index())\n",
    "        df = df.select([pl.col(\"Date\"), pl.col(\"Close\").alias(ticker)])\n",
    "        data_frames.append(df)\n",
    "    \n",
    "    merged_df = data_frames[0]\n",
    "    for df in data_frames[1:]:\n",
    "        merged_df = merged_df.join(df, on=\"Date\", how=\"inner\")\n",
    "    \n",
    "    return merged_df.sort(\"Date\")\n",
    "\n",
    "# For a single ticker\n",
    "df_single = load_yahoo_data(\"AAPL\")"
   ]
  },
  {
   "cell_type": "code",
   "execution_count": 7,
   "metadata": {},
   "outputs": [
    {
     "data": {
      "text/plain": [
       "datetime.datetime(1980, 12, 15, 0, 0, tzinfo=zoneinfo.ZoneInfo(key='America/New_York'))"
      ]
     },
     "execution_count": 7,
     "metadata": {},
     "output_type": "execute_result"
    }
   ],
   "source": [
    "df_single['Date'][1]"
   ]
  }
 ],
 "metadata": {
  "kernelspec": {
   "display_name": "venv",
   "language": "python",
   "name": "python3"
  },
  "language_info": {
   "codemirror_mode": {
    "name": "ipython",
    "version": 3
   },
   "file_extension": ".py",
   "mimetype": "text/x-python",
   "name": "python",
   "nbconvert_exporter": "python",
   "pygments_lexer": "ipython3",
   "version": "3.10.13"
  }
 },
 "nbformat": 4,
 "nbformat_minor": 2
}
